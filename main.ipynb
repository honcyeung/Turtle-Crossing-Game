{
 "cells": [
  {
   "cell_type": "code",
   "execution_count": null,
   "id": "ba81a19b",
   "metadata": {},
   "outputs": [],
   "source": [
    "import time\n",
    "from turtle import Screen\n",
    "from player import Player\n",
    "from car_manager import CarManager\n",
    "from scoreboard import Scoreboard\n",
    "from player import *\n",
    "from scoreboard import *"
   ]
  },
  {
   "cell_type": "code",
   "execution_count": null,
   "id": "7b351ed1",
   "metadata": {},
   "outputs": [],
   "source": [
    "screen = Screen()\n",
    "screen.clear()\n",
    "screen.setup(width=600, height=600)\n",
    "screen.tracer(0)\n",
    "\n",
    "player = Player()\n",
    "carManager = CarManager()\n",
    "scoreboard = Scoreboard()\n",
    "screen.listen()\n",
    "screen.onkey(player.up, 'Up')\n",
    "\n",
    "game_is_on = True\n",
    "while game_is_on:\n",
    "    time.sleep(0.08)\n",
    "    screen.update()\n",
    "    carManager.generate_car()\n",
    "    carManager.move()\n",
    "    \n",
    "    # detect collision\n",
    "    for car in carManager.all_cars:\n",
    "        if car.distance(player) < 20:\n",
    "            game_is_on = False\n",
    "            scoreboard.game_over()\n",
    "    \n",
    "    # detect successful crossing\n",
    "    if player.is_at_finish_line():\n",
    "        player.reset_position()\n",
    "        carManager.level_up()\n",
    "        scoreboard.increase_level()\n",
    "    \n",
    "screen.exitonclick()"
   ]
  },
  {
   "cell_type": "code",
   "execution_count": null,
   "id": "f9ac8570",
   "metadata": {},
   "outputs": [],
   "source": []
  },
  {
   "cell_type": "code",
   "execution_count": null,
   "id": "a14c1f64",
   "metadata": {},
   "outputs": [],
   "source": []
  },
  {
   "cell_type": "code",
   "execution_count": null,
   "id": "40426ad5",
   "metadata": {},
   "outputs": [],
   "source": []
  }
 ],
 "metadata": {
  "kernelspec": {
   "display_name": "Python 3",
   "language": "python",
   "name": "python3"
  },
  "language_info": {
   "codemirror_mode": {
    "name": "ipython",
    "version": 3
   },
   "file_extension": ".py",
   "mimetype": "text/x-python",
   "name": "python",
   "nbconvert_exporter": "python",
   "pygments_lexer": "ipython3",
   "version": "3.8.11"
  }
 },
 "nbformat": 4,
 "nbformat_minor": 5
}
